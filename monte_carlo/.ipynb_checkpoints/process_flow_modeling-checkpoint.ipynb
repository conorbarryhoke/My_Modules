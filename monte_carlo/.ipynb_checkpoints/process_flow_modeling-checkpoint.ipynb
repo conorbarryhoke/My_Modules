{
 "cells": [
  {
   "cell_type": "markdown",
   "metadata": {},
   "source": [
    "Start from scratch.... let's draw from one random distribution some number of times."
   ]
  },
  {
   "cell_type": "markdown",
   "metadata": {},
   "source": [
    "Then, add it to the result of a second distribution. Store the results"
   ]
  },
  {
   "cell_type": "markdown",
   "metadata": {},
   "source": [
    "Then, consider time phase components"
   ]
  },
  {
   "cell_type": "markdown",
   "metadata": {},
   "source": [
    "When these modules are developed, its ready to start plugging it in to excel"
   ]
  },
  {
   "cell_type": "code",
   "execution_count": 1,
   "metadata": {},
   "outputs": [],
   "source": [
    "import numpy as np\n",
    "import pandas as pd\n",
    "import scipy as sp\n",
    "\n",
    "import matplotlib.pyplot as plt\n",
    "\n",
    "\n",
    "\n",
    "import random"
   ]
  },
  {
   "cell_type": "markdown",
   "metadata": {},
   "source": [
    "# Queuing-as df first\n"
   ]
  },
  {
   "cell_type": "code",
   "execution_count": 275,
   "metadata": {},
   "outputs": [
    {
     "data": {
      "text/plain": [
       "461.4341078392036"
      ]
     },
     "execution_count": 275,
     "metadata": {},
     "output_type": "execute_result"
    }
   ],
   "source": [
    "[int(sp.random.lognormal(mean=5, sigma=1))]"
   ]
  },
  {
   "cell_type": "code",
   "execution_count": null,
   "metadata": {},
   "outputs": [],
   "source": [
    "call_time_dist"
   ]
  },
  {
   "cell_type": "code",
   "execution_count": 210,
   "metadata": {},
   "outputs": [],
   "source": [
    "num_customers = 100\n",
    "time_periods = 20\n",
    "num_reps = 50"
   ]
  },
  {
   "cell_type": "code",
   "execution_count": 299,
   "metadata": {},
   "outputs": [],
   "source": [
    "def generate_customer_table(seed=None):\n",
    "    if seed is not None:\n",
    "        np.random.seed(seed)\n",
    "\n",
    "    df_customers = pd.DataFrame([i for i in range(1,num_customers+1)], columns=['customer_id'])\n",
    "    df_customers['required_call_time'] = [np.random.choice([1,2,3,4,5]) for i in range(num_customers)]\n",
    "    df_customers['time_in']=[np.random.choice(range(1,time_periods)) for i in range(num_customers)]\n",
    "    df_customers['time_out']=[0 for i in range(num_customers)]\n",
    "    df_customers['time_assigned'] = [0 for i in range(num_customers)]\n",
    "    df_customers['assigned_rep'] = ['none' for i in range(num_customers)]\n",
    "\n",
    "    df_customers=df_customers.sort_values(by='time_in')\n",
    "    df_customers['customer_id'] = [i for i in range(1,num_customers+1)]\n",
    "    \n",
    "    return df_customers\n",
    "# df_customers\n",
    "\n",
    "def generate_qs():\n",
    "\n",
    "    df_q = pd.DataFrame([0 for x in range(time_periods*2)], columns=['customer_q_list'])\n",
    "    df_q['customer_q_list'] = [[] for x in range(time_periods*2)]\n",
    "    df_q['update_event'] = [0 for x in range(time_periods*2)]\n",
    "\n",
    "    return df_q\n",
    "\n",
    "def generate_reps():\n",
    "    df_reps = pd.DataFrame(columns=['rep1_busy', 'rep2_busy'])\n",
    "    df_reps['rep1_busy']=[0 for x in range(time_periods*2)]\n",
    "    df_reps['rep2_busy']=[0 for x in range(time_periods*2)]\n",
    "    df_reps['rep3_busy']=[0 for x in range(time_periods*2)]\n",
    "    #df_assigned = pd.DataFrame(columns=['rep1_busy_with', 'rep2_busy_with'], index=df_reps.index)\n",
    "    \n",
    "    return df_reps"
   ]
  },
  {
   "cell_type": "code",
   "execution_count": 314,
   "metadata": {},
   "outputs": [],
   "source": [
    "def run_day(df_customers, df_q, df_reps, iteration):\n",
    "    for t in range(time_periods*2):\n",
    "\n",
    "        df_q.at[t, 'customer_q_list'] = list(df_customers[(df_customers.time_assigned==0)&(df_customers.time_in<=t)].customer_id)\n",
    "\n",
    "\n",
    "        if len(df_q['customer_q_list'][t])!=0:\n",
    "\n",
    "            for customer_qued in df_q['customer_q_list'][t]:\n",
    "\n",
    "                for rep in df_reps.columns:\n",
    "                    if df_reps[rep][t]==0:\n",
    "                        _req_call_time = int(df_customers[df_customers.customer_id==customer_qued]['required_call_time'])\n",
    "                        df_customers.at[df_customers.customer_id==customer_qued, ['time_assigned', 'time_out',  'assigned_rep']] = [t, t+_req_call_time , rep]\n",
    "\n",
    "                        df_reps.loc[t: t + _req_call_time, rep] = 1\n",
    "                        #df_assigned.loc[t: t + _req_call_time , rep+'_with'] = customer_qued\n",
    "                        break\n",
    "        df_customers['wait_time'] = df_customers.time_assigned - df_customers.time_in\n",
    "        df_customers['iteration'] = iteration\n",
    "        \n",
    "        df_txn_log = pd.concat([df_q, df_reps],axis=1)\n",
    "        df_txn_log['num_in_q'] = df_txn_log.customer_q_list.apply(lambda x: len(x))\n",
    "        df_txn_log['iteration'] = iteration\n",
    "        df_txn_log = df_txn_log.iloc[:df_customers.time_out.max()+1, :]\n",
    "    return df_customers, df_txn_log"
   ]
  },
  {
   "cell_type": "code",
   "execution_count": 315,
   "metadata": {},
   "outputs": [],
   "source": [
    "df_customers, df_txn_log = run_day(generate_customer_table(seed=42), \n",
    "                                   generate_qs(), \n",
    "                                   generate_reps(), \n",
    "                                   iteration=1)"
   ]
  },
  {
   "cell_type": "code",
   "execution_count": 317,
   "metadata": {},
   "outputs": [],
   "source": [
    "for i in range(2,10):\n",
    "    df_a, df_b = run_day(generate_customer_table(), \n",
    "                                   generate_qs(), \n",
    "                                   generate_reps(), \n",
    "                                   iteration=i)\n",
    "    df_customers = pd.concat([df_customers, df_a])\n",
    "    df_txn_log = pd.concat([df_txn_log, df_b])"
   ]
  },
  {
   "cell_type": "code",
   "execution_count": 322,
   "metadata": {},
   "outputs": [
    {
     "data": {
      "text/plain": [
       "array([0.  , 0.  , 3.11])"
      ]
     },
     "execution_count": 322,
     "metadata": {},
     "output_type": "execute_result"
    }
   ],
   "source": [
    "np.quantile(df_customers.wait_time, [.25, .5, .99])"
   ]
  },
  {
   "cell_type": "code",
   "execution_count": null,
   "metadata": {},
   "outputs": [],
   "source": []
  }
 ],
 "metadata": {
  "kernelspec": {
   "display_name": "Python 3",
   "language": "python",
   "name": "python3"
  },
  "language_info": {
   "codemirror_mode": {
    "name": "ipython",
    "version": 3
   },
   "file_extension": ".py",
   "mimetype": "text/x-python",
   "name": "python",
   "nbconvert_exporter": "python",
   "pygments_lexer": "ipython3",
   "version": "3.6.5"
  }
 },
 "nbformat": 4,
 "nbformat_minor": 2
}
