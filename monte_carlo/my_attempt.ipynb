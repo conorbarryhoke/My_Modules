{
 "cells": [
  {
   "cell_type": "markdown",
   "metadata": {},
   "source": [
    "Start from scratch.... let's draw from one random distribution some number of times."
   ]
  },
  {
   "cell_type": "markdown",
   "metadata": {},
   "source": [
    "Then, add it to the result of a second distribution. Store the results"
   ]
  },
  {
   "cell_type": "markdown",
   "metadata": {},
   "source": [
    "Then, consider time phase components"
   ]
  },
  {
   "cell_type": "markdown",
   "metadata": {},
   "source": [
    "When these modules are developed, its ready to start plugging it in to excel"
   ]
  },
  {
   "cell_type": "code",
   "execution_count": 62,
   "metadata": {},
   "outputs": [],
   "source": [
    "import numpy as np\n",
    "import pandas as pd\n",
    "import scipy as sp\n",
    "from scipy import stats as st\n",
    "import matplotlib.pyplot as plt\n",
    "\n",
    "import random"
   ]
  },
  {
   "cell_type": "code",
   "execution_count": 2,
   "metadata": {},
   "outputs": [],
   "source": [
    "# First pass\n",
    "simulations = 20 #start low\n",
    "\n",
    "cum_prob = [i / simulations + .01 for i in range(simulations)]\n",
    "cum_prob\n",
    "st.norm.ppf(.5, loc=10, scale=2)\n",
    "df_dists = pd.DataFrame(cum_prob, columns=['cum_prob'])\n",
    "df_dists['var_1'] = st.norm.ppf(df_dists.cum_prob, loc=10, scale=2)\n",
    "df_dists\n",
    "df_seed = pd.DataFrame(index=range(simulations))\n",
    "\n",
    "import math\n",
    "\n",
    "import random\n",
    "\n",
    "df_seed['var_1'] = [random.random() for i in range(df_seed.shape[0])]\n",
    "df_seed\n",
    "df_seed_rank = df_seed\n",
    "df_seed_rank['var_1'] = df_seed.loc[:, 'var_1'].rank(axis=0)\n",
    "df_seed_rank\n",
    "df_draws = df_dists\n",
    "df_seed_rank['var_1'].astype(int).values\n",
    "df_dists['var_1'].iloc[df_seed_rank['var_1'].astype(int), :]"
   ]
  },
  {
   "cell_type": "markdown",
   "metadata": {},
   "source": [
    "# Class only\n",
    "To start: Add one value of several uniform variables"
   ]
  },
  {
   "cell_type": "code",
   "execution_count": null,
   "metadata": {},
   "outputs": [],
   "source": [
    "import random"
   ]
  },
  {
   "cell_type": "code",
   "execution_count": 26,
   "metadata": {},
   "outputs": [],
   "source": [
    "master_years = [0, 1, 2, 3, 4, 5, 6, 7, 8, 9, 10]"
   ]
  },
  {
   "cell_type": "code",
   "execution_count": 170,
   "metadata": {},
   "outputs": [],
   "source": [
    "simulatios = 20"
   ]
  },
  {
   "cell_type": "code",
   "execution_count": 141,
   "metadata": {},
   "outputs": [],
   "source": [
    "class random_variable:\n",
    "    def __init__(self, pe=None, distribution=None, mean=0, std=0, cv=None, lower_bound=None, upper_bound=None, draws_for_simulation=[]):\n",
    "        \n",
    "        \"\"\"\n",
    "        Distributions: \n",
    "            - Uniform: Takes upper_bound, lower_bound\n",
    "        \"\"\"\n",
    "        \n",
    "        self.pe = pe\n",
    "        self.distribution = distribution\n",
    "        self.mean = mean\n",
    "        self.std = std\n",
    "        self.cv = cv\n",
    "        self.upper_bound = upper_bound\n",
    "        self.lower_bound = lower_bound\n",
    "        self.draws_for_simulation = draws_for_simulation\n",
    "    \n",
    "    def time_phase(self, level_per_year):\n",
    "        adj_time_phasing = []\n",
    "        for year in range(len(master_years)-1):\n",
    "            if year >= len(level_per_year):\n",
    "                adj_time_phasing += [0]\n",
    "            else:\n",
    "                adj_time_phasing += [self.pe * level_per_year[year]]\n",
    "        return adj_time_phasing\n",
    "                \n",
    "    def get_draws(self, steps):\n",
    "        if self.distribution == 'uniform':\n",
    "            step_size = abs((self.upper_bound - self.lower_bound) / steps)\n",
    "            return [x*step_size + self.lower_bound for x in range(steps)]\n",
    "        else:\n",
    "            print('   distribution not defined')"
   ]
  },
  {
   "cell_type": "code",
   "execution_count": null,
   "metadata": {},
   "outputs": [],
   "source": [
    "test = random_variable(pe=6, distribution='uniform', lower_bound=5, upper_bound=10)\n",
    "test2 = random_variable(pe=20, distribution='uniform', lower_bound=15, upper_bound=25)\n",
    "risk_variables = [test, test2]"
   ]
  },
  {
   "cell_type": "code",
   "execution_count": 166,
   "metadata": {},
   "outputs": [],
   "source": [
    "# Return basic list of variable values\n",
    "def generate_values_table(list_of_variables, steps):\n",
    "    df = pd.DataFrame()\n",
    "    counter = 0\n",
    "    for variable in list_of_variables:\n",
    "        df[\"var_\"+str(counter)] = variable.get_draws(steps=steps)\n",
    "        counter +=1\n",
    "    return df\n",
    "#Return basic list of seeds\n",
    "def generate_order_table(values_table):\n",
    "    _df_seeds = pd.DataFrame()\n",
    "    order_list = [i for i in range(values_table.shape[0])]\n",
    "    for col in values_table.columns:\n",
    "        random.shuffle(order_list)\n",
    "        _df_seeds[col] = order_list\n",
    "    return _df_seeds\n",
    "# Function to sort values according to seed\n",
    "def generate_draw_table(order_table, values_table):\n",
    "    _df_draws = pd.DataFrame()\n",
    "    \n",
    "    for col in order_table.columns:\n",
    "        _df_draws[col] = order_table[col].apply(lambda x: values_table[col].iloc[x])\n",
    "    \n",
    "    return _df_draws\n",
    "# Condensed verion of above steps\n",
    "def generate_shuffled_draws(list_of_variables, steps):\n",
    "    df_raw_values = generate_values_table(list_of_variables=list_of_variables, steps=steps)\n",
    "    df_seeds = generate_order_table(df_raw_values)\n",
    "    _df_shuffled_draws =  generate_draw_table(df_seeds, df_raw_values)\n",
    "    for i in range(len(df_raw_values.columns)):\n",
    "        list_of_variables[i].draws_for_simulation = list(_df_shuffled_draws.iloc[:, i])\n",
    "    return _df_shuffled_draws"
   ]
  },
  {
   "cell_type": "code",
   "execution_count": 171,
   "metadata": {},
   "outputs": [],
   "source": [
    "df_shuffled_draws = generate_shuffled_draws(risk_variables, simulatios)"
   ]
  },
  {
   "cell_type": "code",
   "execution_count": 173,
   "metadata": {},
   "outputs": [],
   "source": [
    "results = [test.draws_for_simulation[i] + test2.draws_for_simulation[i] for i in range(simulatios)]"
   ]
  },
  {
   "cell_type": "code",
   "execution_count": 174,
   "metadata": {},
   "outputs": [],
   "source": [
    "df_shuffled_draws['output'] = results"
   ]
  },
  {
   "cell_type": "code",
   "execution_count": 176,
   "metadata": {},
   "outputs": [
    {
     "data": {
      "text/html": [
       "<div>\n",
       "<style scoped>\n",
       "    .dataframe tbody tr th:only-of-type {\n",
       "        vertical-align: middle;\n",
       "    }\n",
       "\n",
       "    .dataframe tbody tr th {\n",
       "        vertical-align: top;\n",
       "    }\n",
       "\n",
       "    .dataframe thead th {\n",
       "        text-align: right;\n",
       "    }\n",
       "</style>\n",
       "<table border=\"1\" class=\"dataframe\">\n",
       "  <thead>\n",
       "    <tr style=\"text-align: right;\">\n",
       "      <th></th>\n",
       "      <th>var_0</th>\n",
       "      <th>var_1</th>\n",
       "      <th>output</th>\n",
       "    </tr>\n",
       "  </thead>\n",
       "  <tbody>\n",
       "    <tr>\n",
       "      <th>var_0</th>\n",
       "      <td>1.000000</td>\n",
       "      <td>-0.087218</td>\n",
       "      <td>0.382800</td>\n",
       "    </tr>\n",
       "    <tr>\n",
       "      <th>var_1</th>\n",
       "      <td>-0.087218</td>\n",
       "      <td>1.000000</td>\n",
       "      <td>0.886924</td>\n",
       "    </tr>\n",
       "    <tr>\n",
       "      <th>output</th>\n",
       "      <td>0.382800</td>\n",
       "      <td>0.886924</td>\n",
       "      <td>1.000000</td>\n",
       "    </tr>\n",
       "  </tbody>\n",
       "</table>\n",
       "</div>"
      ],
      "text/plain": [
       "           var_0     var_1    output\n",
       "var_0   1.000000 -0.087218  0.382800\n",
       "var_1  -0.087218  1.000000  0.886924\n",
       "output  0.382800  0.886924  1.000000"
      ]
     },
     "execution_count": 176,
     "metadata": {},
     "output_type": "execute_result"
    }
   ],
   "source": [
    "df_shuffled_draws.corr()"
   ]
  },
  {
   "cell_type": "code",
   "execution_count": 178,
   "metadata": {},
   "outputs": [
    {
     "data": {
      "text/html": [
       "<div>\n",
       "<style scoped>\n",
       "    .dataframe tbody tr th:only-of-type {\n",
       "        vertical-align: middle;\n",
       "    }\n",
       "\n",
       "    .dataframe tbody tr th {\n",
       "        vertical-align: top;\n",
       "    }\n",
       "\n",
       "    .dataframe thead th {\n",
       "        text-align: right;\n",
       "    }\n",
       "</style>\n",
       "<table border=\"1\" class=\"dataframe\">\n",
       "  <thead>\n",
       "    <tr style=\"text-align: right;\">\n",
       "      <th></th>\n",
       "      <th>var_0</th>\n",
       "      <th>var_1</th>\n",
       "      <th>output</th>\n",
       "    </tr>\n",
       "  </thead>\n",
       "  <tbody>\n",
       "    <tr>\n",
       "      <th>count</th>\n",
       "      <td>20.00000</td>\n",
       "      <td>20.00000</td>\n",
       "      <td>20.000000</td>\n",
       "    </tr>\n",
       "    <tr>\n",
       "      <th>mean</th>\n",
       "      <td>7.37500</td>\n",
       "      <td>19.75000</td>\n",
       "      <td>27.125000</td>\n",
       "    </tr>\n",
       "    <tr>\n",
       "      <th>std</th>\n",
       "      <td>1.47902</td>\n",
       "      <td>2.95804</td>\n",
       "      <td>3.189724</td>\n",
       "    </tr>\n",
       "    <tr>\n",
       "      <th>min</th>\n",
       "      <td>5.00000</td>\n",
       "      <td>15.00000</td>\n",
       "      <td>21.250000</td>\n",
       "    </tr>\n",
       "    <tr>\n",
       "      <th>25%</th>\n",
       "      <td>6.18750</td>\n",
       "      <td>17.37500</td>\n",
       "      <td>24.000000</td>\n",
       "    </tr>\n",
       "    <tr>\n",
       "      <th>50%</th>\n",
       "      <td>7.37500</td>\n",
       "      <td>19.75000</td>\n",
       "      <td>28.250000</td>\n",
       "    </tr>\n",
       "    <tr>\n",
       "      <th>75%</th>\n",
       "      <td>8.56250</td>\n",
       "      <td>22.12500</td>\n",
       "      <td>29.375000</td>\n",
       "    </tr>\n",
       "    <tr>\n",
       "      <th>max</th>\n",
       "      <td>9.75000</td>\n",
       "      <td>24.50000</td>\n",
       "      <td>31.500000</td>\n",
       "    </tr>\n",
       "  </tbody>\n",
       "</table>\n",
       "</div>"
      ],
      "text/plain": [
       "          var_0     var_1     output\n",
       "count  20.00000  20.00000  20.000000\n",
       "mean    7.37500  19.75000  27.125000\n",
       "std     1.47902   2.95804   3.189724\n",
       "min     5.00000  15.00000  21.250000\n",
       "25%     6.18750  17.37500  24.000000\n",
       "50%     7.37500  19.75000  28.250000\n",
       "75%     8.56250  22.12500  29.375000\n",
       "max     9.75000  24.50000  31.500000"
      ]
     },
     "execution_count": 178,
     "metadata": {},
     "output_type": "execute_result"
    }
   ],
   "source": [
    "df_shuffled_draws.describe()"
   ]
  },
  {
   "cell_type": "markdown",
   "metadata": {},
   "source": [
    "Could for example StandardScale variables and measure correlation from there to determine true size of impact"
   ]
  },
  {
   "cell_type": "markdown",
   "metadata": {},
   "source": [
    "# Eventually\n",
    "* What happens when a variable is referenced twice?"
   ]
  },
  {
   "cell_type": "code",
   "execution_count": null,
   "metadata": {},
   "outputs": [],
   "source": []
  }
 ],
 "metadata": {
  "kernelspec": {
   "display_name": "Python 3",
   "language": "python",
   "name": "python3"
  },
  "language_info": {
   "codemirror_mode": {
    "name": "ipython",
    "version": 3
   },
   "file_extension": ".py",
   "mimetype": "text/x-python",
   "name": "python",
   "nbconvert_exporter": "python",
   "pygments_lexer": "ipython3",
   "version": "3.6.5"
  }
 },
 "nbformat": 4,
 "nbformat_minor": 2
}
