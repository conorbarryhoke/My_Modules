{
 "cells": [
  {
   "cell_type": "markdown",
   "metadata": {},
   "source": [
    "Start from scratch.... let's draw from one random distribution some number of times."
   ]
  },
  {
   "cell_type": "markdown",
   "metadata": {},
   "source": [
    "Then, add it to the result of a second distribution. Store the results"
   ]
  },
  {
   "cell_type": "markdown",
   "metadata": {},
   "source": [
    "Then, consider time phase components"
   ]
  },
  {
   "cell_type": "markdown",
   "metadata": {},
   "source": [
    "When these modules are developed, its ready to start plugging it in to excel"
   ]
  },
  {
   "cell_type": "code",
   "execution_count": 1,
   "metadata": {},
   "outputs": [],
   "source": [
    "import numpy as np\n",
    "import pandas as pd\n",
    "import scipy as sp\n",
    "from scipy import stats as st\n",
    "import matplotlib.pyplot as plt\n",
    "\n",
    "import random"
   ]
  },
  {
   "cell_type": "markdown",
   "metadata": {},
   "source": [
    "# Class only\n",
    "To start: Add one value of several uniform variables\n",
    "\n",
    "## Advantages:\n",
    "Because wbs is calculated separately from random variables, the whole workbook doesn't need to be relcaculated for an update"
   ]
  },
  {
   "cell_type": "code",
   "execution_count": 2,
   "metadata": {},
   "outputs": [],
   "source": [
    "import random"
   ]
  },
  {
   "cell_type": "code",
   "execution_count": 87,
   "metadata": {},
   "outputs": [],
   "source": [
    "master_years = [0, 1, 2, 3, 4]"
   ]
  },
  {
   "cell_type": "code",
   "execution_count": 88,
   "metadata": {},
   "outputs": [],
   "source": [
    "simulatios = 20"
   ]
  },
  {
   "cell_type": "code",
   "execution_count": 155,
   "metadata": {},
   "outputs": [],
   "source": [
    "class random_variable:\n",
    "    def __init__(self, pe=None, distribution=None, time_phasing=None, mean=0, std=0, cv=None, lower_bound=None, upper_bound=None, draws_for_simulation=[], seed_column_number=None):\n",
    "        \n",
    "        \"\"\"\n",
    "        Distributions: \n",
    "            - Uniform: Takes upper_bound, lower_bound\n",
    "        \"\"\"\n",
    "        \n",
    "        self.pe = float(pe)\n",
    "        self.distribution = distribution\n",
    "        self.mean = mean\n",
    "        self.std = std\n",
    "        self.cv = cv\n",
    "        self.upper_bound = upper_bound\n",
    "        self.lower_bound = lower_bound\n",
    "        self.draws_for_simulation = draws_for_simulation\n",
    "        self.seed_column_number = seed_column_number\n",
    "        self.time_phasing = time_phasing\n",
    "    \n",
    "    def time_phase(self, level_per_year):\n",
    "        adj_time_phasing = []\n",
    "        for year in range(len(master_years)-1):\n",
    "            if year >= len(level_per_year):\n",
    "                adj_time_phasing += [0]\n",
    "            else:\n",
    "                adj_time_phasing += level_per_year[year]\n",
    "        self.time_phasing= np.array(adj_time_phasing)\n",
    "                \n",
    "    def get_draws(self, steps):\n",
    "        if self.distribution == 'uniform':\n",
    "            step_size = abs((self.upper_bound - self.lower_bound) / steps)\n",
    "            return [x*step_size + self.lower_bound for x in range(steps)]\n",
    "        else:\n",
    "            print('   distribution not defined')\n",
    "            \n",
    "    def value(self):\n",
    "        return self.pe"
   ]
  },
  {
   "cell_type": "code",
   "execution_count": 142,
   "metadata": {},
   "outputs": [],
   "source": [
    "test = random_variable(pe=6, distribution='uniform', lower_bound=5, upper_bound=10)\n",
    "test2 = random_variable(pe=20, distribution='uniform', lower_bound=15, upper_bound=25)\n",
    "test3_static = random_variable(pe=5.)\n",
    "risk_variables = [test, test2, test3_static]"
   ]
  },
  {
   "cell_type": "code",
   "execution_count": 143,
   "metadata": {},
   "outputs": [],
   "source": [
    "test.time_phasing = [1, 1, 0, 0, 0]\n",
    "test2.time_phasing = [2,2, 0, 0, 0]\n",
    "test3_static.time_phasing  =[0, 0, 3, 4, 5]"
   ]
  },
  {
   "cell_type": "code",
   "execution_count": 144,
   "metadata": {},
   "outputs": [],
   "source": [
    "# Return basic list of variable values\n",
    "def generate_values_table(list_of_variables, steps):\n",
    "    df = pd.DataFrame()\n",
    "    counter = 0\n",
    "    for variable in list_of_variables:\n",
    "        if variable.distribution is None:\n",
    "            df[\"var_\"+str(counter)] = [variable.pe for i in range(steps)]\n",
    "        else:\n",
    "            df[\"var_\"+str(counter)] = variable.get_draws(steps=steps)\n",
    "        variable.seed_column_number = counter\n",
    "        counter +=1\n",
    "    return df\n",
    "#Return basic list of seeds - This is done explicitly to allow for correlation adjustment later\n",
    "def generate_order_table(values_table):\n",
    "    _df_seeds = pd.DataFrame()\n",
    "    order_list = [i for i in range(values_table.shape[0])]\n",
    "    for col in values_table.columns:\n",
    "        random.shuffle(order_list)\n",
    "        _df_seeds[col] = order_list\n",
    "    return _df_seeds\n",
    "# Function to sort values according to seed\n",
    "def generate_draw_table(order_table, values_table):\n",
    "    _df_draws = pd.DataFrame()\n",
    "    \n",
    "    for col in order_table.columns:\n",
    "        _df_draws[col] = order_table[col].apply(lambda x: values_table[col].iloc[x])\n",
    "    \n",
    "    return _df_draws\n",
    "# Condensed verion of above steps\n",
    "def generate_shuffled_draws(list_of_variables, steps):\n",
    "    df_raw_values = generate_values_table(list_of_variables=list_of_variables, steps=steps)\n",
    "    df_seeds = generate_order_table(df_raw_values)\n",
    "    _df_shuffled_draws =  generate_draw_table(df_seeds, df_raw_values)\n",
    "    #Store risk values back into variable\n",
    "    for i in range(len(df_raw_values.columns)):\n",
    "        list_of_variables[i].draws_for_simulation = np.array(_df_shuffled_draws.iloc[:, i])\n",
    "    return _df_shuffled_draws"
   ]
  },
  {
   "cell_type": "code",
   "execution_count": 145,
   "metadata": {},
   "outputs": [],
   "source": [
    "df_shuffled_draws = generate_shuffled_draws(risk_variables, simulatios)"
   ]
  },
  {
   "cell_type": "code",
   "execution_count": 146,
   "metadata": {},
   "outputs": [
    {
     "data": {
      "text/html": [
       "<div>\n",
       "<style scoped>\n",
       "    .dataframe tbody tr th:only-of-type {\n",
       "        vertical-align: middle;\n",
       "    }\n",
       "\n",
       "    .dataframe tbody tr th {\n",
       "        vertical-align: top;\n",
       "    }\n",
       "\n",
       "    .dataframe thead th {\n",
       "        text-align: right;\n",
       "    }\n",
       "</style>\n",
       "<table border=\"1\" class=\"dataframe\">\n",
       "  <thead>\n",
       "    <tr style=\"text-align: right;\">\n",
       "      <th></th>\n",
       "      <th>var_0</th>\n",
       "      <th>var_1</th>\n",
       "      <th>var_2</th>\n",
       "    </tr>\n",
       "  </thead>\n",
       "  <tbody>\n",
       "    <tr>\n",
       "      <th>var_0</th>\n",
       "      <td>1.000000</td>\n",
       "      <td>0.103759</td>\n",
       "      <td>NaN</td>\n",
       "    </tr>\n",
       "    <tr>\n",
       "      <th>var_1</th>\n",
       "      <td>0.103759</td>\n",
       "      <td>1.000000</td>\n",
       "      <td>NaN</td>\n",
       "    </tr>\n",
       "    <tr>\n",
       "      <th>var_2</th>\n",
       "      <td>NaN</td>\n",
       "      <td>NaN</td>\n",
       "      <td>NaN</td>\n",
       "    </tr>\n",
       "  </tbody>\n",
       "</table>\n",
       "</div>"
      ],
      "text/plain": [
       "          var_0     var_1  var_2\n",
       "var_0  1.000000  0.103759    NaN\n",
       "var_1  0.103759  1.000000    NaN\n",
       "var_2       NaN       NaN    NaN"
      ]
     },
     "execution_count": 146,
     "metadata": {},
     "output_type": "execute_result"
    }
   ],
   "source": [
    "df_shuffled_draws.corr()"
   ]
  },
  {
   "cell_type": "code",
   "execution_count": 147,
   "metadata": {},
   "outputs": [
    {
     "data": {
      "text/html": [
       "<div>\n",
       "<style scoped>\n",
       "    .dataframe tbody tr th:only-of-type {\n",
       "        vertical-align: middle;\n",
       "    }\n",
       "\n",
       "    .dataframe tbody tr th {\n",
       "        vertical-align: top;\n",
       "    }\n",
       "\n",
       "    .dataframe thead th {\n",
       "        text-align: right;\n",
       "    }\n",
       "</style>\n",
       "<table border=\"1\" class=\"dataframe\">\n",
       "  <thead>\n",
       "    <tr style=\"text-align: right;\">\n",
       "      <th></th>\n",
       "      <th>var_0</th>\n",
       "      <th>var_1</th>\n",
       "      <th>var_2</th>\n",
       "    </tr>\n",
       "  </thead>\n",
       "  <tbody>\n",
       "    <tr>\n",
       "      <th>count</th>\n",
       "      <td>20.00000</td>\n",
       "      <td>20.00000</td>\n",
       "      <td>20.0</td>\n",
       "    </tr>\n",
       "    <tr>\n",
       "      <th>mean</th>\n",
       "      <td>7.37500</td>\n",
       "      <td>19.75000</td>\n",
       "      <td>5.0</td>\n",
       "    </tr>\n",
       "    <tr>\n",
       "      <th>std</th>\n",
       "      <td>1.47902</td>\n",
       "      <td>2.95804</td>\n",
       "      <td>0.0</td>\n",
       "    </tr>\n",
       "    <tr>\n",
       "      <th>min</th>\n",
       "      <td>5.00000</td>\n",
       "      <td>15.00000</td>\n",
       "      <td>5.0</td>\n",
       "    </tr>\n",
       "    <tr>\n",
       "      <th>25%</th>\n",
       "      <td>6.18750</td>\n",
       "      <td>17.37500</td>\n",
       "      <td>5.0</td>\n",
       "    </tr>\n",
       "    <tr>\n",
       "      <th>50%</th>\n",
       "      <td>7.37500</td>\n",
       "      <td>19.75000</td>\n",
       "      <td>5.0</td>\n",
       "    </tr>\n",
       "    <tr>\n",
       "      <th>75%</th>\n",
       "      <td>8.56250</td>\n",
       "      <td>22.12500</td>\n",
       "      <td>5.0</td>\n",
       "    </tr>\n",
       "    <tr>\n",
       "      <th>max</th>\n",
       "      <td>9.75000</td>\n",
       "      <td>24.50000</td>\n",
       "      <td>5.0</td>\n",
       "    </tr>\n",
       "  </tbody>\n",
       "</table>\n",
       "</div>"
      ],
      "text/plain": [
       "          var_0     var_1  var_2\n",
       "count  20.00000  20.00000   20.0\n",
       "mean    7.37500  19.75000    5.0\n",
       "std     1.47902   2.95804    0.0\n",
       "min     5.00000  15.00000    5.0\n",
       "25%     6.18750  17.37500    5.0\n",
       "50%     7.37500  19.75000    5.0\n",
       "75%     8.56250  22.12500    5.0\n",
       "max     9.75000  24.50000    5.0"
      ]
     },
     "execution_count": 147,
     "metadata": {},
     "output_type": "execute_result"
    }
   ],
   "source": [
    "df_shuffled_draws.describe()"
   ]
  },
  {
   "cell_type": "code",
   "execution_count": 148,
   "metadata": {},
   "outputs": [
    {
     "data": {
      "text/html": [
       "<div>\n",
       "<style scoped>\n",
       "    .dataframe tbody tr th:only-of-type {\n",
       "        vertical-align: middle;\n",
       "    }\n",
       "\n",
       "    .dataframe tbody tr th {\n",
       "        vertical-align: top;\n",
       "    }\n",
       "\n",
       "    .dataframe thead th {\n",
       "        text-align: right;\n",
       "    }\n",
       "</style>\n",
       "<table border=\"1\" class=\"dataframe\">\n",
       "  <thead>\n",
       "    <tr style=\"text-align: right;\">\n",
       "      <th></th>\n",
       "      <th>var_0</th>\n",
       "      <th>var_1</th>\n",
       "      <th>var_2</th>\n",
       "    </tr>\n",
       "  </thead>\n",
       "  <tbody>\n",
       "    <tr>\n",
       "      <th>0</th>\n",
       "      <td>7.75</td>\n",
       "      <td>23.0</td>\n",
       "      <td>5.0</td>\n",
       "    </tr>\n",
       "    <tr>\n",
       "      <th>1</th>\n",
       "      <td>7.25</td>\n",
       "      <td>19.5</td>\n",
       "      <td>5.0</td>\n",
       "    </tr>\n",
       "    <tr>\n",
       "      <th>2</th>\n",
       "      <td>8.25</td>\n",
       "      <td>20.0</td>\n",
       "      <td>5.0</td>\n",
       "    </tr>\n",
       "    <tr>\n",
       "      <th>3</th>\n",
       "      <td>9.25</td>\n",
       "      <td>21.5</td>\n",
       "      <td>5.0</td>\n",
       "    </tr>\n",
       "    <tr>\n",
       "      <th>4</th>\n",
       "      <td>5.25</td>\n",
       "      <td>22.5</td>\n",
       "      <td>5.0</td>\n",
       "    </tr>\n",
       "  </tbody>\n",
       "</table>\n",
       "</div>"
      ],
      "text/plain": [
       "   var_0  var_1  var_2\n",
       "0   7.75   23.0    5.0\n",
       "1   7.25   19.5    5.0\n",
       "2   8.25   20.0    5.0\n",
       "3   9.25   21.5    5.0\n",
       "4   5.25   22.5    5.0"
      ]
     },
     "execution_count": 148,
     "metadata": {},
     "output_type": "execute_result"
    }
   ],
   "source": [
    "df_shuffled_draws.head()"
   ]
  },
  {
   "cell_type": "markdown",
   "metadata": {},
   "source": [
    "Could for example StandardScale variables and measure correlation from there to determine true size of impact"
   ]
  },
  {
   "cell_type": "markdown",
   "metadata": {},
   "source": [
    "# Eventually\n",
    "* Convert time series stuff to dataframe so that variable numbers can be spread across years\n",
    "* Then output would havve to be a sum or table itself but that comes later"
   ]
  },
  {
   "cell_type": "markdown",
   "metadata": {},
   "source": [
    "## Maybe...\n",
    "put the point estimate and mean at the bottom of the seed column table to generalize the steps below?"
   ]
  },
  {
   "cell_type": "code",
   "execution_count": 149,
   "metadata": {},
   "outputs": [
    {
     "data": {
      "text/plain": [
       "178.25"
      ]
     },
     "execution_count": 149,
     "metadata": {},
     "output_type": "execute_result"
    }
   ],
   "source": [
    "test.draws_for_simulation[0] * test2.draws_for_simulation[0]"
   ]
  },
  {
   "cell_type": "code",
   "execution_count": 150,
   "metadata": {},
   "outputs": [
    {
     "data": {
      "text/plain": [
       "array([178.25 , 141.375, 165.   , 198.875, 118.125, 234.   , 133.25 ,\n",
       "       140.25 , 134.75 , 116.25 , 223.25 , 161.875, 105.   , 144.   ,\n",
       "       147.   ,  85.   , 148.5  , 109.25 , 144.   ,  93.75 ])"
      ]
     },
     "execution_count": 150,
     "metadata": {},
     "output_type": "execute_result"
    }
   ],
   "source": [
    "test.draws_for_simulation *  test2.draws_for_simulation"
   ]
  },
  {
   "cell_type": "markdown",
   "metadata": {},
   "source": [
    "### As DF"
   ]
  },
  {
   "cell_type": "code",
   "execution_count": 151,
   "metadata": {},
   "outputs": [
    {
     "data": {
      "text/plain": [
       "array([7.75, 7.25, 8.25, 9.25, 5.25, 9.75, 6.5 , 8.5 , 5.5 , 7.5 , 9.5 ,\n",
       "       8.75, 6.  , 9.  , 7.  , 5.  , 6.75, 5.75, 8.  , 6.25])"
      ]
     },
     "execution_count": 151,
     "metadata": {},
     "output_type": "execute_result"
    }
   ],
   "source": [
    "test.draws_for_simulation"
   ]
  },
  {
   "cell_type": "code",
   "execution_count": 152,
   "metadata": {},
   "outputs": [
    {
     "data": {
      "text/plain": [
       "array([55.75, 51.75, 53.25, 55.75, 52.75, 58.75, 52.  , 50.  , 55.  ,\n",
       "       48.  , 58.  , 52.25, 48.5 , 50.  , 53.  , 47.  , 53.75, 49.75,\n",
       "       51.  , 46.25])"
      ]
     },
     "execution_count": 152,
     "metadata": {},
     "output_type": "execute_result"
    }
   ],
   "source": [
    "(test.draws_for_simulation * test.time_phasing[1]) + (test2.draws_for_simulation * test.time_phasing[1]) +\\\n",
    " test3_static.draws_for_simulation * test3_static.time_phasing[year]\n"
   ]
  },
  {
   "cell_type": "code",
   "execution_count": 194,
   "metadata": {},
   "outputs": [],
   "source": [
    "df_wbs_master = pd.DataFrame(columns=[\"Level_0_2\", \"Level_0_1_1\", \"Level_0_1_2\", \"Level_0_1\", \"Level_0\", 'year'])\n",
    "# Could explicityly iterate through draws here to get at year variables\n",
    "for year in master_years:\n",
    "    df_wbs = pd.DataFrame(columns=[\"Level_0_2\", \"Level_0_1_1\", \"Level_0_1_2\", \"Level_0_1\", \"Level_0\", 'year'])\n",
    "    \n",
    "    df_wbs[\"Level_0_2\"]= test3_static.draws_for_simulation * test3_static.time_phasing[year]\n",
    "\n",
    "    df_wbs[\"Level_0_1_1\"] = (test.draws_for_simulation * test.time_phasing[year]) * (test2.draws_for_simulation * test.time_phasing[year]) \n",
    "    df_wbs[\"Level_0_1_2\"] = (test.draws_for_simulation * test.time_phasing[year]) + (test2.draws_for_simulation * test.time_phasing[year]) \n",
    "    df_wbs[\"Level_0_1\"]   = df_wbs.Level_0_1_1 + df_wbs.Level_0_1_2\n",
    "\n",
    "    df_wbs[\"Level_0\"]     = df_wbs.Level_0_2 + df_wbs.Level_0_1\n",
    "    \n",
    "    df_wbs['year'] = year\n",
    "    \n",
    "    df_wbs_master = pd.concat([df_wbs_master, df_wbs])"
   ]
  },
  {
   "cell_type": "code",
   "execution_count": null,
   "metadata": {},
   "outputs": [],
   "source": []
  },
  {
   "cell_type": "code",
   "execution_count": 188,
   "metadata": {},
   "outputs": [
    {
     "data": {
      "text/html": [
       "<div>\n",
       "<style scoped>\n",
       "    .dataframe tbody tr th:only-of-type {\n",
       "        vertical-align: middle;\n",
       "    }\n",
       "\n",
       "    .dataframe tbody tr th {\n",
       "        vertical-align: top;\n",
       "    }\n",
       "\n",
       "    .dataframe thead th {\n",
       "        text-align: right;\n",
       "    }\n",
       "</style>\n",
       "<table border=\"1\" class=\"dataframe\">\n",
       "  <thead>\n",
       "    <tr style=\"text-align: right;\">\n",
       "      <th></th>\n",
       "      <th></th>\n",
       "      <th>Level_0</th>\n",
       "      <th>Level_0_1</th>\n",
       "      <th>Level_0_1_1</th>\n",
       "      <th>Level_0_1_2</th>\n",
       "      <th>Level_0_2</th>\n",
       "    </tr>\n",
       "    <tr>\n",
       "      <th>year</th>\n",
       "      <th></th>\n",
       "      <th></th>\n",
       "      <th></th>\n",
       "      <th></th>\n",
       "      <th></th>\n",
       "      <th></th>\n",
       "    </tr>\n",
       "  </thead>\n",
       "  <tbody>\n",
       "    <tr>\n",
       "      <th>0</th>\n",
       "      <th>0.8</th>\n",
       "      <td>196.4</td>\n",
       "      <td>196.4</td>\n",
       "      <td>167.65</td>\n",
       "      <td>30.15</td>\n",
       "      <td>0.0</td>\n",
       "    </tr>\n",
       "    <tr>\n",
       "      <th>1</th>\n",
       "      <th>0.8</th>\n",
       "      <td>196.4</td>\n",
       "      <td>196.4</td>\n",
       "      <td>167.65</td>\n",
       "      <td>30.15</td>\n",
       "      <td>0.0</td>\n",
       "    </tr>\n",
       "    <tr>\n",
       "      <th>2</th>\n",
       "      <th>0.8</th>\n",
       "      <td>15.0</td>\n",
       "      <td>0.0</td>\n",
       "      <td>0.00</td>\n",
       "      <td>0.00</td>\n",
       "      <td>15.0</td>\n",
       "    </tr>\n",
       "    <tr>\n",
       "      <th>3</th>\n",
       "      <th>0.8</th>\n",
       "      <td>20.0</td>\n",
       "      <td>0.0</td>\n",
       "      <td>0.00</td>\n",
       "      <td>0.00</td>\n",
       "      <td>20.0</td>\n",
       "    </tr>\n",
       "    <tr>\n",
       "      <th>4</th>\n",
       "      <th>0.8</th>\n",
       "      <td>25.0</td>\n",
       "      <td>0.0</td>\n",
       "      <td>0.00</td>\n",
       "      <td>0.00</td>\n",
       "      <td>25.0</td>\n",
       "    </tr>\n",
       "  </tbody>\n",
       "</table>\n",
       "</div>"
      ],
      "text/plain": [
       "          Level_0  Level_0_1  Level_0_1_1  Level_0_1_2  Level_0_2\n",
       "year                                                             \n",
       "0    0.8    196.4      196.4       167.65        30.15        0.0\n",
       "1    0.8    196.4      196.4       167.65        30.15        0.0\n",
       "2    0.8     15.0        0.0         0.00         0.00       15.0\n",
       "3    0.8     20.0        0.0         0.00         0.00       20.0\n",
       "4    0.8     25.0        0.0         0.00         0.00       25.0"
      ]
     },
     "execution_count": 188,
     "metadata": {},
     "output_type": "execute_result"
    }
   ],
   "source": [
    "df_wbs_master.groupby('year').quantile([.8])"
   ]
  },
  {
   "cell_type": "code",
   "execution_count": 157,
   "metadata": {},
   "outputs": [
    {
     "data": {
      "text/html": [
       "<div>\n",
       "<style scoped>\n",
       "    .dataframe tbody tr th:only-of-type {\n",
       "        vertical-align: middle;\n",
       "    }\n",
       "\n",
       "    .dataframe tbody tr th {\n",
       "        vertical-align: top;\n",
       "    }\n",
       "\n",
       "    .dataframe thead th {\n",
       "        text-align: right;\n",
       "    }\n",
       "</style>\n",
       "<table border=\"1\" class=\"dataframe\">\n",
       "  <thead>\n",
       "    <tr style=\"text-align: right;\">\n",
       "      <th></th>\n",
       "      <th>Level_0_2</th>\n",
       "      <th>Level_0_1_1</th>\n",
       "      <th>Level_0_1_2</th>\n",
       "      <th>Level_0_1</th>\n",
       "      <th>Level_0</th>\n",
       "    </tr>\n",
       "  </thead>\n",
       "  <tbody>\n",
       "    <tr>\n",
       "      <th>count</th>\n",
       "      <td>100.000000</td>\n",
       "      <td>100.000000</td>\n",
       "      <td>100.000000</td>\n",
       "      <td>100.000000</td>\n",
       "      <td>100.000000</td>\n",
       "    </tr>\n",
       "    <tr>\n",
       "      <th>mean</th>\n",
       "      <td>12.000000</td>\n",
       "      <td>58.435000</td>\n",
       "      <td>10.850000</td>\n",
       "      <td>69.285000</td>\n",
       "      <td>81.285000</td>\n",
       "    </tr>\n",
       "    <tr>\n",
       "      <th>std</th>\n",
       "      <td>10.347498</td>\n",
       "      <td>75.980124</td>\n",
       "      <td>13.524575</td>\n",
       "      <td>89.280867</td>\n",
       "      <td>79.990672</td>\n",
       "    </tr>\n",
       "    <tr>\n",
       "      <th>min</th>\n",
       "      <td>0.000000</td>\n",
       "      <td>0.000000</td>\n",
       "      <td>0.000000</td>\n",
       "      <td>0.000000</td>\n",
       "      <td>15.000000</td>\n",
       "    </tr>\n",
       "    <tr>\n",
       "      <th>25%</th>\n",
       "      <td>0.000000</td>\n",
       "      <td>0.000000</td>\n",
       "      <td>0.000000</td>\n",
       "      <td>0.000000</td>\n",
       "      <td>20.000000</td>\n",
       "    </tr>\n",
       "    <tr>\n",
       "      <th>50%</th>\n",
       "      <td>15.000000</td>\n",
       "      <td>0.000000</td>\n",
       "      <td>0.000000</td>\n",
       "      <td>0.000000</td>\n",
       "      <td>25.000000</td>\n",
       "    </tr>\n",
       "    <tr>\n",
       "      <th>75%</th>\n",
       "      <td>20.000000</td>\n",
       "      <td>134.750000</td>\n",
       "      <td>26.000000</td>\n",
       "      <td>164.750000</td>\n",
       "      <td>164.750000</td>\n",
       "    </tr>\n",
       "    <tr>\n",
       "      <th>max</th>\n",
       "      <td>25.000000</td>\n",
       "      <td>234.000000</td>\n",
       "      <td>33.750000</td>\n",
       "      <td>267.750000</td>\n",
       "      <td>267.750000</td>\n",
       "    </tr>\n",
       "  </tbody>\n",
       "</table>\n",
       "</div>"
      ],
      "text/plain": [
       "        Level_0_2  Level_0_1_1  Level_0_1_2   Level_0_1     Level_0\n",
       "count  100.000000   100.000000   100.000000  100.000000  100.000000\n",
       "mean    12.000000    58.435000    10.850000   69.285000   81.285000\n",
       "std     10.347498    75.980124    13.524575   89.280867   79.990672\n",
       "min      0.000000     0.000000     0.000000    0.000000   15.000000\n",
       "25%      0.000000     0.000000     0.000000    0.000000   20.000000\n",
       "50%     15.000000     0.000000     0.000000    0.000000   25.000000\n",
       "75%     20.000000   134.750000    26.000000  164.750000  164.750000\n",
       "max     25.000000   234.000000    33.750000  267.750000  267.750000"
      ]
     },
     "execution_count": 157,
     "metadata": {},
     "output_type": "execute_result"
    }
   ],
   "source": [
    "df_wbs_master.describe()"
   ]
  },
  {
   "cell_type": "markdown",
   "metadata": {},
   "source": [
    "# Two competing demands: \n",
    "Doing it this way makes correlation implicit\n",
    "However, when handling something like a growth factor, this still has the problem that the value is chosen up front and could blow up  \n",
    "In the past, I've handled that by using separate risk factors for each year  \n",
    "BUT this could get code heavy quickly for something like financial modelling that wants lots of growth factors     \n",
    "\n",
    "https://stackoverflow.com/questions/18683821/generating-random-correlated-x-and-y-points-using-numpy  \n",
    "\n",
    "https://stackoverflow.com/questions/43664994/numpy-random-choice-vs-random-choice  \n",
    "  \n",
    "https://scipy-cookbook.readthedocs.io/items/CorrelatedRandomSamples.html  \n",
    "\n",
    "https://docs.scipy.org/doc/numpy/reference/generated/numpy.random.multivariate_normal.html"
   ]
  },
  {
   "cell_type": "code",
   "execution_count": 196,
   "metadata": {},
   "outputs": [
    {
     "data": {
      "text/plain": [
       "<matplotlib.collections.PathCollection at 0x1f13a754160>"
      ]
     },
     "execution_count": 196,
     "metadata": {},
     "output_type": "execute_result"
    },
    {
     "data": {
      "image/png": "[encoded data removed]",
      "text/plain": [
       "<Figure size 432x288 with 1 Axes>"
      ]
     },
     "metadata": {},
     "output_type": "display_data"
    }
   ],
   "source": [
    "import numpy as np\n",
    "import matplotlib.pyplot as plt\n",
    "plt.style.use('seaborn-whitegrid')\n",
    "\n",
    "xx = np.array([-0.51, 51.2])\n",
    "yy = np.array([0.33, 51.6])\n",
    "means = [xx.mean(), yy.mean()]  \n",
    "stds = [xx.std() / 3, yy.std() / 3]\n",
    "corr = 0.8         # correlation\n",
    "covs = [[stds[0]**2          , stds[0]*stds[1]*corr], \n",
    "        [stds[0]*stds[1]*corr,           stds[1]**2]] \n",
    "\n",
    "m = np.random.multivariate_normal(means, covs, 1000).T\n",
    "plt.scatter(m[0], m[1])"
   ]
  },
  {
   "cell_type": "code",
   "execution_count": null,
   "metadata": {},
   "outputs": [],
   "source": []
  },
  {
   "cell_type": "markdown",
   "metadata": {},
   "source": [
    "## test generic operator\n",
    "https://stackoverflow.com/questions/18591778/how-to-pass-an-operator-to-a-python-function  \n",
    "https://docs.python.org/2/library/operator.html\n"
   ]
  },
  {
   "cell_type": "code",
   "execution_count": 166,
   "metadata": {},
   "outputs": [],
   "source": [
    "import operator"
   ]
  },
  {
   "cell_type": "markdown",
   "metadata": {},
   "source": [
    "To capture time phasing, each run is a whole dataframe?\n",
    "Then each df is appended below. Then you can wbs.t.groupby(name?)"
   ]
  },
  {
   "cell_type": "code",
   "execution_count": 180,
   "metadata": {},
   "outputs": [],
   "source": [
    "def combine(element_1, element_2, relation):\n",
    "    ops = {\n",
    "        '+': operator.add, \n",
    "        '-': operator.sub, \n",
    "        '*': operator.mul,\n",
    "       # '/': operator.div, \n",
    "    }\n",
    "    return ops[relation](element_1, element_2)"
   ]
  },
  {
   "cell_type": "code",
   "execution_count": 181,
   "metadata": {},
   "outputs": [],
   "source": [
    "a = 10.\n",
    "b = 5."
   ]
  },
  {
   "cell_type": "code",
   "execution_count": 183,
   "metadata": {},
   "outputs": [
    {
     "data": {
      "text/plain": [
       "50.0"
      ]
     },
     "execution_count": 183,
     "metadata": {},
     "output_type": "execute_result"
    }
   ],
   "source": [
    "combine(a, b, '*')"
   ]
  },
  {
   "cell_type": "code",
   "execution_count": 193,
   "metadata": {},
   "outputs": [
    {
     "data": {
      "text/plain": [
       "array([2, 4, 6])"
      ]
     },
     "execution_count": 193,
     "metadata": {},
     "output_type": "execute_result"
    }
   ],
   "source": [
    "combine(np.array([1,2,3]), np.array([2,2,2]), \"*\")"
   ]
  },
  {
   "cell_type": "code",
   "execution_count": null,
   "metadata": {},
   "outputs": [],
   "source": [
    "\n",
    "def get_truth(inp, relate, cut):\n",
    "    ops = {'>': operator.c,\n",
    "           '<': operator.lt,\n",
    "           '>=': operator.ge,\n",
    "           '<=': operator.le,\n",
    "           '=': operator.eq}\n",
    "    return ops[relate](inp, cut)\n",
    "\n",
    "\n",
    "print get_truth(1.0, '>', 0.0)  # prints True\n",
    "print get_truth(1.0, '<', 0.0)  # prints False\n",
    "print get_truth(1.0, '>=', 0.0)  # prints True\n",
    "print get_truth(1.0, '<=', 0.0)  # prints False\n",
    "print get_truth(1.0, '=', 0.0)  # prints False"
   ]
  },
  {
   "cell_type": "code",
   "execution_count": 191,
   "metadata": {},
   "outputs": [
    {
     "data": {
      "text/plain": [
       "array([2, 4, 6])"
      ]
     },
     "execution_count": 191,
     "metadata": {},
     "output_type": "execute_result"
    }
   ],
   "source": [
    "np.array([1,2,3])*np.array([2,2,2])"
   ]
  },
  {
   "cell_type": "code",
   "execution_count": null,
   "metadata": {},
   "outputs": [],
   "source": []
  }
 ],
 "metadata": {
  "kernelspec": {
   "display_name": "Python 3",
   "language": "python",
   "name": "python3"
  },
  "language_info": {
   "codemirror_mode": {
    "name": "ipython",
    "version": 3
   },
   "file_extension": ".py",
   "mimetype": "text/x-python",
   "name": "python",
   "nbconvert_exporter": "python",
   "pygments_lexer": "ipython3",
   "version": "3.6.5"
  }
 },
 "nbformat": 4,
 "nbformat_minor": 2
}
