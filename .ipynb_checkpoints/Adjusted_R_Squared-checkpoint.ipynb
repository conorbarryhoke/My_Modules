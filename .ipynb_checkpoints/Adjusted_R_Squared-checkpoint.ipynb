{
 "cells": [
  {
   "cell_type": "code",
   "execution_count": 1,
   "metadata": {},
   "outputs": [],
   "source": [
    "#Need to have imported pandas\n",
    "\n",
    "import pandas as pd"
   ]
  },
  {
   "cell_type": "code",
   "execution_count": 6,
   "metadata": {},
   "outputs": [],
   "source": [
    "train_data = [i for i in range(10)]\n",
    "train_predicted = [i + .5 for i in range (1,11)]"
   ]
  },
  {
   "cell_type": "code",
   "execution_count": 16,
   "metadata": {},
   "outputs": [],
   "source": [
    "train_data_series = pd.DataFrame(pd.Series(test_data), columns = ['Actuals'])\n",
    "train_predicted_series = pd.DataFrame(pd.Series(test_predicted), columns=['Predicted'])\n",
    "\n",
    "training_set = train_data_series.join(train_predicted_series)"
   ]
  },
  {
   "cell_type": "code",
   "execution_count": null,
   "metadata": {},
   "outputs": [],
   "source": [
    "import pandas as pd"
   ]
  },
  {
   "cell_type": "code",
   "execution_count": 57,
   "metadata": {},
   "outputs": [],
   "source": [
    "def r2_adjusted(Y_Actual, Y_Predicted, DF_Source, n, p):\n",
    "    \"\"\"\n",
    "    Y_Actual and Y_Predicted are expected to be the NAMES of Pandas series in a data frame. \n",
    "    \n",
    "    n = sample size\n",
    "    p = number of predictors / features / variables\n",
    "    \n",
    "    If data is in lists only, use following procedure:\n",
    "    \n",
    "    train_data_series = pd.DataFrame(pd.Series(test_data), columns = ['Actuals'])\n",
    "        train_predicted_series = pd.DataFrame(pd.Series(test_predicted), columns=['Predicted'])\n",
    "\n",
    "        training_set = train_data_series.join(train_predicted_series)\n",
    "    \"\"\"\n",
    "    \n",
    "    actual_mean = DF_Source[Y_Actual].mean()\n",
    "    DF_Source['Error_in_Prediction_'] = (DF_Source[Y_Actual] - DF_Source[Y_Predicted])**2\n",
    "    DF_Source['Error_in_Mean_'] = (DF_Source[Y_Actual] - actual_mean)**2\n",
    "    metric_ = DF_Source['Error_in_Prediction_'].sum() / DF_Source['Error_in_Mean_'].sum()\n",
    "    metric_ = metric_*(1/(n-p-1))/(n-1)\n",
    "    metric_ = 1 - metric_\n",
    "    \n",
    "    DF_Source.drop('Error_in_Prediction_', axis = 1, inplace=True)\n",
    "    DF_Source.drop('Error_in_Mean_', axis = 1, inplace=True)\n",
    "    return metric_\n",
    "    "
   ]
  },
  {
   "cell_type": "code",
   "execution_count": 58,
   "metadata": {},
   "outputs": [
    {
     "data": {
      "text/plain": [
       "0.9962121212121212"
      ]
     },
     "execution_count": 58,
     "metadata": {},
     "output_type": "execute_result"
    }
   ],
   "source": [
    "r2_adjusted('Actuals', 'Predicted', training_set, 10, 1)"
   ]
  },
  {
   "cell_type": "code",
   "execution_count": null,
   "metadata": {},
   "outputs": [],
   "source": []
  }
 ],
 "metadata": {
  "kernelspec": {
   "display_name": "Python 3",
   "language": "python",
   "name": "python3"
  },
  "language_info": {
   "codemirror_mode": {
    "name": "ipython",
    "version": 3
   },
   "file_extension": ".py",
   "mimetype": "text/x-python",
   "name": "python",
   "nbconvert_exporter": "python",
   "pygments_lexer": "ipython3",
   "version": "3.6.5"
  }
 },
 "nbformat": 4,
 "nbformat_minor": 2
}
