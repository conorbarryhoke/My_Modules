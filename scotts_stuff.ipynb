{
 "cells": [
  {
   "cell_type": "markdown",
   "metadata": {},
   "source": [
    "# Text Analytics from Scott Lingor"
   ]
  },
  {
   "cell_type": "code",
   "execution_count": null,
   "metadata": {},
   "outputs": [],
   "source": [
    "pf = PolynomialFeatures(include_bias=False)\n",
    "x_poly = pf.fit_transform(train_dum1)\n",
    "features = pf.get_feature_names(train_dum1.columns)\n",
    "poly_df = pd.DataFrame(x_poly, columns = features)"
   ]
  },
  {
   "cell_type": "code",
   "execution_count": null,
   "metadata": {},
   "outputs": [],
   "source": [
    "from textblob import TextBlob\n",
    "def sentiment_analyzer(market='market'):\n",
    "    positive_posts = 0\n",
    "    negative_posts = 0\n",
    "    neutral_posts = 0\n",
    "\n",
    "    for row in df[df['market']==market]['all']:\n",
    "        blob = TextBlob(row)\n",
    "        if blob.sentiment.polarity > 0:\n",
    "            positive_posts += 1\n",
    "        elif blob.sentiment.polarity < 0:\n",
    "            negative_posts +=1\n",
    "        elif blob.sentiment.polarity == 0.0:\n",
    "            neutral_posts +=1\n",
    "\n",
    "    print(market + ' positive posts: '+ str(positive_posts) + '  Percent Positive: ' \n",
    "          + str(round(((postive_posts/(positive_posts+negative_posts+neutral_posts))*100))) + '%')\n",
    "    print(market + ' negative posts: '+ str(negative_posts) + '  Percent Negative: ' \n",
    "          + str(round(((negative_posts/(positive_posts+negative_posts+neutral_posts))*100))) + '%')\n",
    "    print(market + ' neutral posts: '+ str(neutral_posts) + '  Percent Neutral: ' \n",
    "          + str(round(((neutral_posts/(positive_posts+negative_posts+neutral_posts))*100))) + '%')\n",
    "    \n",
    "    p = ['positive']\n",
    "    m =['negative']\n",
    "    n = ['neutral']\n",
    "    P = (postive_posts)\n",
    "    M = (negative_posts)\n",
    "    N = (neutral_posts)\n",
    "    fig = plt.figure()\n",
    "    ax = fig.add_subplot(111)\n",
    "    ax.bar(p, P, color='g')\n",
    "    ax.bar(m, M, color='r')\n",
    "    ax.bar(n, N, color='y')"
   ]
  }
 ],
 "metadata": {
  "kernelspec": {
   "display_name": "Python 3",
   "language": "python",
   "name": "python3"
  },
  "language_info": {
   "codemirror_mode": {
    "name": "ipython",
    "version": 3
   },
   "file_extension": ".py",
   "mimetype": "text/x-python",
   "name": "python",
   "nbconvert_exporter": "python",
   "pygments_lexer": "ipython3",
   "version": "3.6.5"
  }
 },
 "nbformat": 4,
 "nbformat_minor": 2
}
